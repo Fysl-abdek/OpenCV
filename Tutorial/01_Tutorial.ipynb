{
 "cells": [
  {
   "cell_type": "markdown",
   "metadata": {},
   "source": [
    "How to read and write an image in openCV\n"
   ]
  },
  {
   "cell_type": "code",
   "execution_count": null,
   "metadata": {},
   "outputs": [],
   "source": [
    "import cv2"
   ]
  },
  {
   "cell_type": "code",
   "execution_count": 1,
   "metadata": {},
   "outputs": [],
   "source": [
    "import cv2\n",
    "img = cv2.imread('F:\\Machine learing\\OpenCV\\Code\\Data\\images.jpg',1)\n",
    "# 0 for grayscale\n",
    "# 1 for color\n",
    "# -1 for alphe channele\n",
    "# print(img)\n",
    "cv2.imshow('sec',img)\n",
    "k = cv2.waitKeyEx(0)\n",
    "\n",
    "if k == 1:\n",
    "   cv2.destroyAllWindows()\n",
    "elif k == ord('s'):\n",
    "   cv2.imwrite('F:\\Machine learing\\OpenCV\\Code\\Data\\imwrite.jpg', img)\n",
    "   cv2.destroyAllWindows()\n"
   ]
  },
  {
   "cell_type": "markdown",
   "metadata": {},
   "source": [
    "How to read,write,and show videoe from Camera in openCV"
   ]
  },
  {
   "cell_type": "code",
   "execution_count": 8,
   "metadata": {},
   "outputs": [
    {
     "name": "stdout",
     "output_type": "stream",
     "text": [
      "True\n"
     ]
    }
   ],
   "source": [
    "import cv2\n",
    "cap = cv2.VideoCapture(0)\n",
    "fourcc = cv2.VideoWriter_fourcc(*'XVID')\n",
    "out = cv2.VideoWriter('output.avi',fourcc,20.0,(640,480))\n",
    "\n",
    "print(cap.isOpened())\n",
    "while(cap.isOpened()):\n",
    "   ret ,frame = cap.read()\n",
    "   if ret == True:\n",
    "      # print(cap.get(cv2.CAP_PROP_FRAME_WIDTH))\n",
    "      # print(cap.get(cv2.CAP_PROP_FRAME_HEIGHT))\n",
    "\n",
    "      out.write(frame)\n",
    "      gray = cv2.cvtColor(frame ,cv2.COLOR_RGB2GRAY)\n",
    "      cv2.imshow('frame', gray)\n",
    "      if cv2.waitKeyEx(1) == ord('q'):\n",
    "         break\n",
    "   else:\n",
    "      break\n",
    "\n",
    "cap.release()\n",
    "out.release()\n",
    "cv2.destroyAllWindows()"
   ]
  },
  {
   "cell_type": "markdown",
   "metadata": {},
   "source": [
    "Draw Geometric shape in images using openCV"
   ]
  },
  {
   "cell_type": "code",
   "execution_count": 4,
   "metadata": {},
   "outputs": [],
   "source": [
    "import numpy as np\n",
    "import cv2\n",
    "img = np.zeros([512,512,3],np.uint8)\n",
    "# draw line\n",
    "img = cv2.line(img, (0, 0), (512, 512), (0, 255, 0), 8)\n",
    "img = cv2.line(img, (512, 0), (0,512), (255, 0,0),8)\n",
    "# draw arrow line\n",
    "img = cv2.arrowedLine(img ,(0,0) , (256 , 256),(0,0,255),10)\n",
    "img = cv2.arrowedLine(img, (512,512), (252, 252), (0, 0, 255), 10)\n",
    "# draw a cricle\n",
    "img = cv2.circle(img ,(256 , 256),60 ,(255,225 ,220) ,8)\n",
    "# draw rectangle \n",
    "img = cv2.rectangle(img,(185,185),(325, 325),(152,20,190),8)\n",
    "# Write text\n",
    "font = cv2.FONT_HERSHEY_COMPLEX \n",
    "img = cv2.putText(img ,'OpenCV',(130,70),font,2,(0,255,255),5)\n",
    "\n",
    "\n",
    "cv2.imshow('imge',img)\n",
    "k = cv2.waitKeyEx(0)\n",
    "if k == 1:\n",
    "   cv2.destroyAllWindows()\n"
   ]
  },
  {
   "cell_type": "markdown",
   "metadata": {},
   "source": [
    "show data and time in videos using openCV"
   ]
  },
  {
   "cell_type": "code",
   "execution_count": 2,
   "metadata": {},
   "outputs": [],
   "source": [
    "import cv2\n",
    "import datetime\n",
    "\n",
    "cap = cv2.VideoCapture(0)\n",
    "# fourcc = cv2.VideoWriter_fourcc(*'XVID')\n",
    "# out = cv2.VideoWriter('frame.avi',fourcc,20.0,(640,480))\n",
    "\n",
    "cap.set(3,2000)\n",
    "cap.set(4,2000)\n",
    "\n",
    "while(cap.isOpened()):\n",
    "   ret , frame = cap.read()\n",
    "   if ret == True:\n",
    "      font = cv2.FONT_HERSHEY_COMPLEX\n",
    "      text = 'Width: '+str(cap.get(3)) + ' Height: ' + str(cap.get(4))\n",
    "      date = str(datetime.datetime.now())\n",
    "      frame = cv2.putText(frame ,text ,(10,50),font,1,(0,255,255),2)\n",
    "      frame = cv2.putText(frame, date, (10,100),font, 1, (0, 255, 255), 2)\n",
    "\n",
    "      # out.write(frame)\n",
    "      cv2.imshow('frame',frame)\n",
    "      if cv2.waitKey(1) == ord('q'):\n",
    "         break\n",
    "   else:\n",
    "      break\n",
    "cap.release()\n",
    "# out.release()\n",
    "cv2.destroyAllWindows()\n"
   ]
  },
  {
   "cell_type": "markdown",
   "metadata": {},
   "source": [
    "handle mouse events "
   ]
  },
  {
   "cell_type": "code",
   "execution_count": null,
   "metadata": {},
   "outputs": [],
   "source": [
    "import cv2\n",
    "import numpy as np\n",
    "\n",
    "# event = [i for i in dir(cv2) if 'EVENT' in i]\n",
    "\n",
    "def click_events(event ,x ,y,flag,param):\n",
    "   if event == cv2.EVENT_LBUTTONDOWN:\n",
    "      font = cv2.FONT_HERSHEY_COMPLEX\n",
    "      strXY = str(x) + ',' + str(y)\n",
    "      cv2.putText(img ,strXY ,(x,y),font,0.5,(255,255,0),2)\n",
    "      cv2.imshow('img',img)\n",
    "   if event == cv2.EVENT_RBUTTONDOWN:\n",
    "      blue = img[x,y,0]\n",
    "      green = img[x,y,1]\n",
    "      red = img[x,y,2]\n",
    "      strBGR = str(blue) +','+str(green) +','+str(red)\n",
    "      font = cv2.FONT_HERSHEY_COMPLEX\n",
    "      cv2.putText(img ,strBGR ,(x,y),font,0.5,(0,255,255),2)\n",
    "      cv2.imshow('img', img)\n",
    "\n",
    "\n",
    "img = cv2.imread('F:\\Machine learing\\OpenCV\\Code\\Data\\messi.jpg',1)\n",
    "# img = cv2.resize(img,(500,500))\n",
    "cv2.imshow('img',img)\n",
    "cv2.setMouseCallback('img',click_events)\n",
    "if cv2.waitKey(0) == ord('q'):\n",
    "   cv2.destroyAllWindows()"
   ]
  },
  {
   "cell_type": "markdown",
   "metadata": {},
   "source": [
    "more mouse events"
   ]
  },
  {
   "cell_type": "code",
   "execution_count": 15,
   "metadata": {},
   "outputs": [],
   "source": [
    "import cv2\n",
    "import numpy as np\n",
    "\n",
    "def click_events(event ,x,y,flags,param):\n",
    "   if event == cv2.EVENT_LBUTTONDOWN:\n",
    "      blue = img[y,x,0]\n",
    "      green = img[y,x,1]\n",
    "      red = img[y,x,2]\n",
    "      colorImges = np.zeros((512,512,3),np.uint8)\n",
    "      colorImges[:] = [blue , green ,red]\n",
    "\n",
    "      cv2.imshow('image', colorImges)\n",
    "\n",
    "img = cv2.imread('F:\\Machine learing\\OpenCV\\Code\\Data\\images.jpg',1)\n",
    "cv2.imshow('color',img)\n",
    "\n",
    "cv2.setMouseCallback('color',click_events)\n",
    "\n",
    "cv2.waitKey(0)\n",
    "cv2.destroyAllWindows()"
   ]
  },
  {
   "cell_type": "markdown",
   "metadata": {},
   "source": [
    "more mouse events"
   ]
  },
  {
   "cell_type": "code",
   "execution_count": 31,
   "metadata": {},
   "outputs": [],
   "source": [
    "import cv2\n",
    "import numpy as np\n",
    "\n",
    "def click_event(event ,x,y,flags ,param):\n",
    "   if event == cv2.EVENT_LBUTTONDOWN:\n",
    "      cv2.circle(img ,(x,y),7,(255,0,0),-1)\n",
    "      points.append((x,y))\n",
    "      if len(points) >= 2:\n",
    "         cv2.line(img,points[-1],points[-2],(0,0,255),1)\n",
    "\n",
    "         cv2.imshow('image',img)\n",
    "\n",
    "img = np.zeros([512,512,3],np.uint8)\n",
    "# img = cv2.imread('F:\\Machine learing\\OpenCV\\Code\\Data\\images.jpg', 1)\n",
    "cv2.imshow('image',img)\n",
    "\n",
    "points = []\n",
    "\n",
    "cv2.setMouseCallback('image',click_event)\n",
    "cv2.waitKey(0)\n",
    "cv2.destroyAllWindows()\n"
   ]
  },
  {
   "cell_type": "markdown",
   "metadata": {},
   "source": [
    "split,resize,merge,ROI,add and addWeight"
   ]
  },
  {
   "cell_type": "code",
   "execution_count": 7,
   "metadata": {},
   "outputs": [],
   "source": [
    "import cv2\n",
    "import os\n",
    "\n",
    "os.chdir('F:\\Machine learing\\OpenCV\\Code\\Data')\n",
    "\n",
    "img = cv2.imread(\"messi.jpg\")\n",
    "img2 = cv2.imread(\"images.jpg\")\n",
    "\n",
    "# split color\n",
    "b,g,r = cv2.split(img)\n",
    "# merge\n",
    "img = cv2.merge((b,g,r))\n",
    "# resize\n",
    "img = cv2.resize(img,(400,400))\n",
    "img2 = cv2.resize(img2, (400, 400))\n",
    "# add\n",
    "img_add = cv2.add(img , img2)\n",
    "# add weight\n",
    "img = cv2.addWeighted(img,0.8,img2,0.4,0)\n",
    "# # ROI\n",
    "# ball = img[558:334,748:525]\n",
    "# img = img[562:147, 752:294] = ball\n",
    "cv2.imshow('messi',img)\n",
    "cv2.waitKey(0)\n",
    "cv2.destroyAllWindows()"
   ]
  },
  {
   "cell_type": "markdown",
   "metadata": {},
   "source": [
    "How to bind trackbar"
   ]
  },
  {
   "cell_type": "code",
   "execution_count": null,
   "metadata": {},
   "outputs": [],
   "source": [
    "import cv2\n",
    "import numpy as np\n",
    "def nothing(x):\n",
    "   pass\n",
    "   # print(x)\n",
    "\n",
    "\n",
    "img = np.zeros((300,512,3),np.uint8)\n",
    "cv2.namedWindow('image')\n",
    "\n",
    "cv2.createTrackbar('B', 'image', 0, 255, nothing)\n",
    "cv2.createTrackbar('G', 'image', 0, 255, nothing)\n",
    "cv2.createTrackbar('R', 'image', 0, 255, nothing)\n",
    "switch = '0: off \\n 1: on'\n",
    "cv2.createTrackbar(switch, 'image', 0, 1, nothing)\n",
    "\n",
    "while(1):\n",
    "   cv2.imshow('image',img)\n",
    "   k = cv2.waitKey(1)\n",
    "   if k == 2:\n",
    "      # cv2.destroyAllWindows()\n",
    "      break\n",
    "   b = cv2.getTrackbarPos('B','image')\n",
    "   g = cv2.getTrackbarPos('G','image')\n",
    "   r = cv2.getTrackbarPos('R','image')\n",
    "   s = cv2.getTrackbarPos(switch, 'image')\n",
    "\n",
    "   if s == 0:\n",
    "      img[:] = 0\n",
    "   else:\n",
    "      img[:] = [b,g,r]\n",
    "\n",
    "cv2.destroyAllWindows()"
   ]
  },
  {
   "cell_type": "markdown",
   "metadata": {},
   "source": [
    "bitwise"
   ]
  },
  {
   "cell_type": "code",
   "execution_count": 15,
   "metadata": {},
   "outputs": [],
   "source": [
    "from ast import BitAnd\n",
    "import cv2\n",
    "import numpy as np\n",
    "\n",
    "img = np.zeros((250,500,3),np.uint8)\n",
    "img = cv2.rectangle(img,(200,0),(300,100),(255,255,255),-1)\n",
    "img2 = np.full((250,500,3),255,np.uint8)\n",
    "img2 = cv2.rectangle(img2,(0,0),(250,250),(0,0,0),-1)\n",
    "\n",
    "bitAnd = cv2.bitwise_and(img,img2) \n",
    "bitor = cv2.bitwise_or(img,img2)\n",
    "bitXor = cv2.bitwise_xor(img,img2)\n",
    "bitNot1 = cv2.bitwise_not(img)\n",
    "bitNot2 = cv2.bitwise_not(img2)\n",
    "\n",
    "cv2.imshow('img1',img)\n",
    "cv2.imshow('img2', img2)\n",
    "# cv2.imshow('bitAnd',bitAnd)\n",
    "# cv2.imshow('bitor', bitor)\n",
    "# cv2.imshow('bitXor', bitXor)\n",
    "cv2.imshow('bitNot1', bitNot1)\n",
    "cv2.imshow('bitNot2', bitNot2)\n",
    "\n",
    "\n",
    "cv2.waitKey(0)\n",
    "cv2.destroyAllWindows()"
   ]
  },
  {
   "cell_type": "markdown",
   "metadata": {},
   "source": [
    "### Object detection and object tracking using openCV color space"
   ]
  },
  {
   "cell_type": "code",
   "execution_count": 8,
   "metadata": {},
   "outputs": [
    {
     "name": "stdout",
     "output_type": "stream",
     "text": [
      "True\n"
     ]
    }
   ],
   "source": [
    "import cv2\n",
    "import numpy as np\n",
    "\n",
    "def nothing(x):\n",
    "   pass\n",
    "\n",
    "cap = cv2.VideoCapture(0)\n",
    "cv2.namedWindow('Tracking')\n",
    "cv2.createTrackbar('LS','Tracking',0,255,nothing )\n",
    "cv2.createTrackbar('LH','Tracking',0,255,nothing )\n",
    "cv2.createTrackbar('Lv','Tracking',0,255,nothing )\n",
    "cv2.createTrackbar('UH','Tracking',255,255,nothing )\n",
    "cv2.createTrackbar('US','Tracking',255,255,nothing )\n",
    "cv2.createTrackbar('UV','Tracking',255,255,nothing )\n",
    "print(cap.isOpened())\n",
    "while True:\n",
    "   # frame = cv2.imread('')\n",
    "   _ , frame = cap.read()\n",
    "   hsv = cv2.cvtColor(frame,cv2.COLOR_BGR2HSV)\n",
    "\n",
    "   l_h = cv2.getTrackbarPos('LH','Tracking')\n",
    "   l_s = cv2.getTrackbarPos('LS','Tracking' )\n",
    "   l_v = cv2.getTrackbarPos('Lv','Tracking' )\n",
    "\n",
    "   u_h = cv2.getTrackbarPos('UH','Tracking', )\n",
    "   u_s = cv2.getTrackbarPos('US','Tracking', )\n",
    "   u_v = cv2.getTrackbarPos('UV','Tracking', )\n",
    "\n",
    "   l_b = np.array([l_h, l_s, l_v])\n",
    "   u_b = np.array([u_h, u_s, u_v])\n",
    "\n",
    "   maske = cv2.inRange(hsv, l_b, u_b)\n",
    "\n",
    "   res = cv2.bitwise_and(frame,frame,mask=maske)\n",
    "\n",
    "   cv2.imshow('frame',frame)\n",
    "   cv2.imshow('maske',maske)\n",
    "   cv2.imshow('res',res)\n",
    "\n",
    "   k = cv2.waitKey(0)\n",
    "   if k == ord('s'):\n",
    "      break\n",
    "cap.release()\n",
    "cv2.destroyAllWindows()"
   ]
  },
  {
   "cell_type": "markdown",
   "metadata": {},
   "source": [
    "### Adaptive thresholding"
   ]
  },
  {
   "cell_type": "code",
   "execution_count": 14,
   "metadata": {},
   "outputs": [],
   "source": [
    "import cv2\n",
    "\n",
    "img = cv2.imread('F:\\Machine learing\\OpenCV\\Code\\Data\\lenet.jpg',0)\n",
    "cv2.imshow('ff',img)\n",
    "_, thr = cv2.threshold(img ,100,255,cv2.THRESH_BINARY)\n",
    "th1 = cv2.adaptiveThreshold(img, 255, cv2.ADAPTIVE_THRESH_MEAN_C, cv2.THRESH_BINARY, 211, 30)\n",
    "th2 = cv2.adaptiveThreshold(img, 255, cv2.ADAPTIVE_THRESH_GAUSSIAN_C, cv2.THRESH_BINARY, 211, 18)\n",
    "\n",
    "cv2.imshow('THRESH_BINARY',thr)\n",
    "cv2.imshow('ADAPTIVE_THRESH_MEAN',th1)\n",
    "cv2.imshow('ADAPTIVE_THRESH_GAUSSIAN', th2)\n",
    "\n",
    "cv2.waitKey(0)\n",
    "cv2.destroyAllWindows()\n"
   ]
  },
  {
   "cell_type": "markdown",
   "metadata": {},
   "source": [
    "### Matplotlib with openCV"
   ]
  },
  {
   "cell_type": "code",
   "execution_count": 21,
   "metadata": {},
   "outputs": [
    {
     "data": {
      "image/png": "[encoded data removed]",
      "text/plain": [
       "<Figure size 432x288 with 1 Axes>"
      ]
     },
     "metadata": {
      "needs_background": "light"
     },
     "output_type": "display_data"
    }
   ],
   "source": [
    "import matplotlib.pyplot as plt\n",
    "import cv2\n",
    "import os\n",
    "\n",
    "os.chdir('F:\\Machine learing\\OpenCV\\Code\\Data')\n",
    "\n",
    "img = cv2.imread('skill.jpg')\n",
    "cv2.imshow('skill',img)\n",
    "\n",
    "img = cv2.cvtColor(img,cv2.COLOR_BGR2RGB)\n",
    "plt.imshow(img)\n",
    "# print(list(img.shape))\n",
    "\n",
    "cv2.waitKey(0)\n",
    "cv2.destroyAllWindows()"
   ]
  }
 ],
 "metadata": {
  "kernelspec": {
   "display_name": "base",
   "language": "python",
   "name": "python3"
  },
  "language_info": {
   "codemirror_mode": {
    "name": "ipython",
    "version": 3
   },
   "file_extension": ".py",
   "mimetype": "text/x-python",
   "name": "python",
   "nbconvert_exporter": "python",
   "pygments_lexer": "ipython3",
   "version": "3.8.8 (default, Apr 13 2021, 15:08:03) [MSC v.1916 64 bit (AMD64)]"
  },
  "orig_nbformat": 4,
  "vscode": {
   "interpreter": {
    "hash": "ad2bdc8ecc057115af97d19610ffacc2b4e99fae6737bb82f5d7fb13d2f2c186"
   }
  }
 },
 "nbformat": 4,
 "nbformat_minor": 2
}
